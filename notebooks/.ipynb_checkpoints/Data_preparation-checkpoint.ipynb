{
 "cells": [
  {
   "cell_type": "markdown",
   "id": "af2ff9e5-0287-45d0-be79-f0c104a58d1d",
   "metadata": {},
   "source": [
    "# Proyecto Clase - Análisis de homogeneidad covariables formadoras de suelo\n",
    "## Preparacion de datos\n",
    "\n",
    "1. Cargar las capas de archivos shapefile de la cuenca curití\n",
    "2. Cargar la imagen sentinel 2 de la cuenca\n",
    "3. Cargar el DEM Alos Palsar de la cuenca\n",
    "\n",
    "## Procesamiento inicial de datos\n",
    "1. Reproyectar el DEM y la imagen Sentinel2 de Curití con el crs del límite de la cuenca"
   ]
  },
  {
   "cell_type": "code",
   "execution_count": 11,
   "id": "42f362b9-3aa2-4d2f-bd86-dc253a0b65e7",
   "metadata": {},
   "outputs": [
    {
     "name": "stdout",
     "output_type": "stream",
     "text": [
      "✅Shapefiles cargados geom\n",
      "\n",
      "✅Shapefiles cargados geol\n",
      "\n",
      "✅Shapefiles cargados clima\n",
      "\n",
      "✅Shapefiles cargados limBuf\n",
      "\n",
      "\n",
      "\n",
      "Datos del raster cargado sentinel2\n",
      " {'driver': 'GTiff', 'dtype': 'float32', 'nodata': -3.3999999521443642e+38, 'width': 1741, 'height': 1858, 'count': 8, 'crs': CRS.from_epsg(4326), 'transform': Affine(9.039999999999594e-05, 0.0, -73.13438320910319,\n",
      "       0.0, -9.039999999999999e-05, 6.6712409126466605)}\n",
      "\n",
      "\n",
      "⚠️ CRS del raster \"sentinel2\" no coincide con el CRS de los shapefiles. Reproyectando...\n",
      "\n",
      "\n",
      "✅ Raster reproyectado y guardado en: /notebooks/Insumos_Proyecto_Clase/Sentinel2_Reproyectado.tif\n",
      "\n",
      "\n",
      "\n",
      "\n",
      "Datos del raster cargado dem\n",
      " {'driver': 'GTiff', 'dtype': 'int16', 'nodata': 32767.0, 'width': 1453, 'height': 1552, 'count': 1, 'crs': CRS.from_wkt('PROJCS[\"MAGNA-SIRGAS / Colombia Bogota zone\",GEOGCS[\"MAGNA-SIRGAS\",DATUM[\"Marco_Geocentrico_Nacional_de_Referencia\",SPHEROID[\"GRS 1980\",6378137,298.257222101004,AUTHORITY[\"EPSG\",\"7019\"]],AUTHORITY[\"EPSG\",\"6686\"]],PRIMEM[\"Greenwich\",0],UNIT[\"degree\",0.0174532925199433,AUTHORITY[\"EPSG\",\"9122\"]],AUTHORITY[\"EPSG\",\"4686\"]],PROJECTION[\"Transverse_Mercator\"],PARAMETER[\"latitude_of_origin\",4.59620041666667],PARAMETER[\"central_meridian\",-74.0775079166667],PARAMETER[\"scale_factor\",1],PARAMETER[\"false_easting\",1000000],PARAMETER[\"false_northing\",1000000],UNIT[\"metre\",1,AUTHORITY[\"EPSG\",\"9001\"]],AXIS[\"Easting\",EAST],AXIS[\"Northing\",NORTH],AUTHORITY[\"EPSG\",\"3116\"]]'), 'transform': Affine(12.0, 0.0, 1104296.9999999981,\n",
      "       0.0, -12.0, 1229595.0)}\n",
      "\n",
      "\n",
      "⚠️ CRS del raster \"dem\" no coincide con el CRS de los shapefiles. Reproyectando...\n",
      "\n",
      "\n",
      "✅ Raster reproyectado y guardado en: /notebooks/Insumos_Proyecto_Clase/Dem_Cortado_Buff_Reproyectado.tif\n",
      "\n",
      "\n"
     ]
    }
   ],
   "source": [
    "import sys\n",
    "sys.path.append(\"/notebooks/Proyecto_Clase/src\")\n",
    "import importlib\n",
    "import data_preprocessing\n",
    "importlib.reload(data_preprocessing)\n",
    "\n",
    "ruta_shp = \"/notebooks/Insumos_Proyecto_Clase/\"\n",
    "ruta_ras = \"/notebooks/Insumos_Proyecto_Clase/\"\n",
    "\n",
    "nombres_shp = {\n",
    "    \"geom\": \"Geomorfologia.shp\",\n",
    "    \"geol\": \"Geologia.shp\",\n",
    "    \"clima\": \"Clima_IGAC.shp\",\n",
    "    \"limBuf\": \"Limite_Buff_500.shp\"\n",
    "}\n",
    "\n",
    "nombres_raster = {\n",
    "    \"sentinel2\": \"Sentinel2.tif\",\n",
    "    \"dem\": \"Dem_Cortado_Buff.tif\"\n",
    "}\n",
    "\n",
    "insumos = data_preprocessing.carga_shp_raster_proj(ruta_shp, nombres_shp, ruta_ras, nombres_raster)\n",
    "geom_shp = insumos[\"shapefiles\"][\"geom\"]\n",
    "geol_shp = insumos[\"shapefiles\"][\"geol\"]\n",
    "clim_shp = insumos[\"shapefiles\"][\"clima\"]\n",
    "limBuf_shp = insumos[\"shapefiles\"][\"limBuf\"]\n",
    "\n",
    "sentinel2 = insumos[\"rasters\"][\"sentinel2\"]\n",
    "Dem_cortado = insumos[\"rasters\"][\"dem\"]"
   ]
  },
  {
   "cell_type": "code",
   "execution_count": null,
   "id": "58a378b1-ec9a-42f8-a56e-4dc7f2b57ef5",
   "metadata": {},
   "outputs": [],
   "source": []
  }
 ],
 "metadata": {
  "kernelspec": {
   "display_name": "Python 3 (ipykernel)",
   "language": "python",
   "name": "python3"
  },
  "language_info": {
   "codemirror_mode": {
    "name": "ipython",
    "version": 3
   },
   "file_extension": ".py",
   "mimetype": "text/x-python",
   "name": "python",
   "nbconvert_exporter": "python",
   "pygments_lexer": "ipython3",
   "version": "3.11.9"
  }
 },
 "nbformat": 4,
 "nbformat_minor": 5
}
